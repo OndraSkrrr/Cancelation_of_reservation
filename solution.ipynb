{
 "cells": [
  {
   "cell_type": "code",
   "execution_count": 2,
   "metadata": {},
   "outputs": [
    {
     "name": "stdout",
     "output_type": "stream",
     "text": [
      "0        0\n",
      "1        1\n",
      "2        1\n",
      "3        0\n",
      "4        1\n",
      "        ..\n",
      "19995    0\n",
      "19996    0\n",
      "19997    0\n",
      "19998    0\n",
      "19999    1\n",
      "Name: cancelada, Length: 20000, dtype: int64\n"
     ]
    },
    {
     "data": {
      "text/plain": [
       "Index(['id', 'antecedencia_da_reserva', 'dia_chegada', 'noites_da_estadia',\n",
       "       'noites_fim_de_semana', 'adultos', 'criancas', 'bebes',\n",
       "       'cancelamentos_anteriores', 'reservas_anteriores_nao_canceladas',\n",
       "       'alteracoes_da_reserva', 'total_de_pedidos', 'cancelada',\n",
       "       'mes_chegada_April', 'mes_chegada_August', 'mes_chegada_December',\n",
       "       'mes_chegada_February', 'mes_chegada_January', 'mes_chegada_July',\n",
       "       'mes_chegada_June', 'mes_chegada_March', 'mes_chegada_May',\n",
       "       'mes_chegada_November', 'mes_chegada_October', 'mes_chegada_September',\n",
       "       'hotel_de_praia_no', 'hotel_de_praia_yes',\n",
       "       'regime_BB - Bed & Breakfast', 'regime_FB - Full Board',\n",
       "       'regime_HB - Half Board', 'regime_SC - Self Catering', 'ja_cliente_no',\n",
       "       'ja_cliente_yes', 'tipo_deposito_No Deposit',\n",
       "       'tipo_deposito_Non Refund', 'tipo_deposito_Refundable'],\n",
       "      dtype='object')"
      ]
     },
     "execution_count": 2,
     "metadata": {},
     "output_type": "execute_result"
    }
   ],
   "source": [
    "import pandas as pd\n",
    "import numpy as np\n",
    "import sklearn as skl\n",
    "from sklearn import datasets\n",
    "from sklearn.model_selection import train_test_split\n",
    "from sklearn.svm import SVC\n",
    "import matplotlib.pyplot as plt\n",
    "\n",
    "\n",
    "\n",
    "# Data Inspection\n",
    "df = pd.read_csv(\"dataset.csv\", sep=\";\")  \n",
    "    \n",
    "df.head(4)\n",
    "\n",
    "df.columns\n",
    "\n",
    "df.isnull().values.any() # No NaN Values in df\n",
    "\n",
    "# sns.pairplot(df, hue='cancelada')\n",
    "# plt.show()\n",
    "\n",
    "# Use replace for dependent variable to get numerical values\n",
    "\n",
    "df['cancelada'].replace(['yes','no'], [1,0], inplace=True)\n",
    "\n",
    "print(df['cancelada'])\n",
    "\n",
    "\n",
    "# Transfer from categorical data to numerical for independent variables\n",
    "\n",
    "df_dummy = pd.get_dummies(df, columns=['mes_chegada','hotel_de_praia', 'regime', 'ja_cliente', 'tipo_deposito'])\n",
    "\n",
    "df_dummy.columns\n",
    "\n",
    "\n",
    "\n"
   ]
  },
  {
   "cell_type": "code",
   "execution_count": 3,
   "metadata": {},
   "outputs": [
    {
     "name": "stdout",
     "output_type": "stream",
     "text": [
      "Index(['antecedencia_da_reserva', 'dia_chegada', 'noites_da_estadia',\n",
      "       'noites_fim_de_semana', 'adultos', 'criancas', 'bebes',\n",
      "       'cancelamentos_anteriores', 'reservas_anteriores_nao_canceladas',\n",
      "       'alteracoes_da_reserva', 'mes_chegada_April', 'mes_chegada_August',\n",
      "       'mes_chegada_December', 'mes_chegada_February', 'mes_chegada_January',\n",
      "       'mes_chegada_July', 'mes_chegada_June', 'mes_chegada_March',\n",
      "       'mes_chegada_May', 'mes_chegada_November', 'mes_chegada_October',\n",
      "       'mes_chegada_September', 'hotel_de_praia_no', 'hotel_de_praia_yes',\n",
      "       'regime_BB - Bed & Breakfast', 'regime_FB - Full Board',\n",
      "       'regime_HB - Half Board', 'regime_SC - Self Catering', 'ja_cliente_no',\n",
      "       'ja_cliente_yes', 'tipo_deposito_No Deposit',\n",
      "       'tipo_deposito_Non Refund', 'tipo_deposito_Refundable'],\n",
      "      dtype='object')\n",
      "(15000, 33) (5000, 33) (15000,) (5000,)\n"
     ]
    }
   ],
   "source": [
    "\n",
    "# Creating of subsets for model\n",
    "\n",
    "# dependent variable is \"cancelada_no\" and \"cancelada_yes\" (Y)\n",
    "# independent variables is every other line except for id (X)\n",
    "\n",
    "#slicing data \n",
    "indexes1 = list(range(1,11))\n",
    "indexes2 = list(range(13,36))\n",
    "indexes3 = indexes1 + indexes2\n",
    "\n",
    "# creating X and Y with iloc\n",
    "Y = df_dummy.loc[:,'cancelada']\n",
    "X = df_dummy.iloc[:,indexes3]\n",
    "\n",
    "print(X.columns)\n",
    "\n",
    "\n",
    "\n",
    "Xtrain, Xtest, Ytrain, Ytest = train_test_split(X,Y,test_size=0.25, random_state=1)\n",
    "\n",
    "\n",
    "print(Xtrain.shape, Xtest.shape, Ytrain.shape, Ytest.shape)\n"
   ]
  },
  {
   "cell_type": "code",
   "execution_count": 4,
   "metadata": {},
   "outputs": [
    {
     "ename": "KeyboardInterrupt",
     "evalue": "",
     "output_type": "error",
     "traceback": [
      "\u001b[1;31m---------------------------------------------------------------------------\u001b[0m",
      "\u001b[1;31mKeyboardInterrupt\u001b[0m                         Traceback (most recent call last)",
      "Cell \u001b[1;32mIn [4], line 4\u001b[0m\n\u001b[0;32m      2\u001b[0m Model \u001b[39m=\u001b[39m SVC()\n\u001b[0;32m      3\u001b[0m Model\u001b[39m.\u001b[39mfit(Xtrain, Ytrain) \n\u001b[1;32m----> 4\u001b[0m Model\u001b[39m.\u001b[39;49mscore(Xtest, Ytest)\n",
      "File \u001b[1;32mc:\\Users\\Ondra\\AppData\\Local\\Programs\\Python\\Python39\\lib\\site-packages\\sklearn\\base.py:651\u001b[0m, in \u001b[0;36mClassifierMixin.score\u001b[1;34m(self, X, y, sample_weight)\u001b[0m\n\u001b[0;32m    626\u001b[0m \u001b[39m\"\"\"\u001b[39;00m\n\u001b[0;32m    627\u001b[0m \u001b[39mReturn the mean accuracy on the given test data and labels.\u001b[39;00m\n\u001b[0;32m    628\u001b[0m \n\u001b[1;32m   (...)\u001b[0m\n\u001b[0;32m    647\u001b[0m \u001b[39m    Mean accuracy of ``self.predict(X)`` wrt. `y`.\u001b[39;00m\n\u001b[0;32m    648\u001b[0m \u001b[39m\"\"\"\u001b[39;00m\n\u001b[0;32m    649\u001b[0m \u001b[39mfrom\u001b[39;00m \u001b[39m.\u001b[39;00m\u001b[39mmetrics\u001b[39;00m \u001b[39mimport\u001b[39;00m accuracy_score\n\u001b[1;32m--> 651\u001b[0m \u001b[39mreturn\u001b[39;00m accuracy_score(y, \u001b[39mself\u001b[39;49m\u001b[39m.\u001b[39;49mpredict(X), sample_weight\u001b[39m=\u001b[39msample_weight)\n",
      "File \u001b[1;32mc:\\Users\\Ondra\\AppData\\Local\\Programs\\Python\\Python39\\lib\\site-packages\\sklearn\\svm\\_base.py:791\u001b[0m, in \u001b[0;36mBaseSVC.predict\u001b[1;34m(self, X)\u001b[0m\n\u001b[0;32m    789\u001b[0m     y \u001b[39m=\u001b[39m np\u001b[39m.\u001b[39margmax(\u001b[39mself\u001b[39m\u001b[39m.\u001b[39mdecision_function(X), axis\u001b[39m=\u001b[39m\u001b[39m1\u001b[39m)\n\u001b[0;32m    790\u001b[0m \u001b[39melse\u001b[39;00m:\n\u001b[1;32m--> 791\u001b[0m     y \u001b[39m=\u001b[39m \u001b[39msuper\u001b[39;49m()\u001b[39m.\u001b[39;49mpredict(X)\n\u001b[0;32m    792\u001b[0m \u001b[39mreturn\u001b[39;00m \u001b[39mself\u001b[39m\u001b[39m.\u001b[39mclasses_\u001b[39m.\u001b[39mtake(np\u001b[39m.\u001b[39masarray(y, dtype\u001b[39m=\u001b[39mnp\u001b[39m.\u001b[39mintp))\n",
      "File \u001b[1;32mc:\\Users\\Ondra\\AppData\\Local\\Programs\\Python\\Python39\\lib\\site-packages\\sklearn\\svm\\_base.py:416\u001b[0m, in \u001b[0;36mBaseLibSVM.predict\u001b[1;34m(self, X)\u001b[0m\n\u001b[0;32m    414\u001b[0m X \u001b[39m=\u001b[39m \u001b[39mself\u001b[39m\u001b[39m.\u001b[39m_validate_for_predict(X)\n\u001b[0;32m    415\u001b[0m predict \u001b[39m=\u001b[39m \u001b[39mself\u001b[39m\u001b[39m.\u001b[39m_sparse_predict \u001b[39mif\u001b[39;00m \u001b[39mself\u001b[39m\u001b[39m.\u001b[39m_sparse \u001b[39melse\u001b[39;00m \u001b[39mself\u001b[39m\u001b[39m.\u001b[39m_dense_predict\n\u001b[1;32m--> 416\u001b[0m \u001b[39mreturn\u001b[39;00m predict(X)\n",
      "File \u001b[1;32mc:\\Users\\Ondra\\AppData\\Local\\Programs\\Python\\Python39\\lib\\site-packages\\sklearn\\svm\\_base.py:435\u001b[0m, in \u001b[0;36mBaseLibSVM._dense_predict\u001b[1;34m(self, X)\u001b[0m\n\u001b[0;32m    427\u001b[0m         \u001b[39mraise\u001b[39;00m \u001b[39mValueError\u001b[39;00m(\n\u001b[0;32m    428\u001b[0m             \u001b[39m\"\u001b[39m\u001b[39mX.shape[1] = \u001b[39m\u001b[39m%d\u001b[39;00m\u001b[39m should be equal to \u001b[39m\u001b[39m%d\u001b[39;00m\u001b[39m, \u001b[39m\u001b[39m\"\u001b[39m\n\u001b[0;32m    429\u001b[0m             \u001b[39m\"\u001b[39m\u001b[39mthe number of samples at training time\u001b[39m\u001b[39m\"\u001b[39m\n\u001b[0;32m    430\u001b[0m             \u001b[39m%\u001b[39m (X\u001b[39m.\u001b[39mshape[\u001b[39m1\u001b[39m], \u001b[39mself\u001b[39m\u001b[39m.\u001b[39mshape_fit_[\u001b[39m0\u001b[39m])\n\u001b[0;32m    431\u001b[0m         )\n\u001b[0;32m    433\u001b[0m svm_type \u001b[39m=\u001b[39m LIBSVM_IMPL\u001b[39m.\u001b[39mindex(\u001b[39mself\u001b[39m\u001b[39m.\u001b[39m_impl)\n\u001b[1;32m--> 435\u001b[0m \u001b[39mreturn\u001b[39;00m libsvm\u001b[39m.\u001b[39;49mpredict(\n\u001b[0;32m    436\u001b[0m     X,\n\u001b[0;32m    437\u001b[0m     \u001b[39mself\u001b[39;49m\u001b[39m.\u001b[39;49msupport_,\n\u001b[0;32m    438\u001b[0m     \u001b[39mself\u001b[39;49m\u001b[39m.\u001b[39;49msupport_vectors_,\n\u001b[0;32m    439\u001b[0m     \u001b[39mself\u001b[39;49m\u001b[39m.\u001b[39;49m_n_support,\n\u001b[0;32m    440\u001b[0m     \u001b[39mself\u001b[39;49m\u001b[39m.\u001b[39;49m_dual_coef_,\n\u001b[0;32m    441\u001b[0m     \u001b[39mself\u001b[39;49m\u001b[39m.\u001b[39;49m_intercept_,\n\u001b[0;32m    442\u001b[0m     \u001b[39mself\u001b[39;49m\u001b[39m.\u001b[39;49m_probA,\n\u001b[0;32m    443\u001b[0m     \u001b[39mself\u001b[39;49m\u001b[39m.\u001b[39;49m_probB,\n\u001b[0;32m    444\u001b[0m     svm_type\u001b[39m=\u001b[39;49msvm_type,\n\u001b[0;32m    445\u001b[0m     kernel\u001b[39m=\u001b[39;49mkernel,\n\u001b[0;32m    446\u001b[0m     degree\u001b[39m=\u001b[39;49m\u001b[39mself\u001b[39;49m\u001b[39m.\u001b[39;49mdegree,\n\u001b[0;32m    447\u001b[0m     coef0\u001b[39m=\u001b[39;49m\u001b[39mself\u001b[39;49m\u001b[39m.\u001b[39;49mcoef0,\n\u001b[0;32m    448\u001b[0m     gamma\u001b[39m=\u001b[39;49m\u001b[39mself\u001b[39;49m\u001b[39m.\u001b[39;49m_gamma,\n\u001b[0;32m    449\u001b[0m     cache_size\u001b[39m=\u001b[39;49m\u001b[39mself\u001b[39;49m\u001b[39m.\u001b[39;49mcache_size,\n\u001b[0;32m    450\u001b[0m )\n",
      "\u001b[1;31mKeyboardInterrupt\u001b[0m: "
     ]
    }
   ],
   "source": [
    "# Use SVC model fit and train the model\n",
    "Model = SVC()\n",
    "Model.fit(Xtrain, Ytrain) \n",
    "Model.score(Xtest, Ytest) \n",
    "\n",
    "# result: 66.52 accuracy for first time"
   ]
  },
  {
   "cell_type": "code",
   "execution_count": 5,
   "metadata": {},
   "outputs": [],
   "source": [
    "# Usage of Scaler to improve accuracy\n",
    "from sklearn.preprocessing import StandardScaler\n",
    "\n",
    "scaler = StandardScaler()\n",
    "scaler.fit(Xtrain)\n",
    "Xtrain_scaled = scaler.transform(Xtrain)\n",
    "\n",
    "scaler = StandardScaler()\n",
    "scaler.fit(Xtest)\n",
    "Xtest_scaled = scaler.transform(Xtest)\n",
    "\n",
    "\n",
    "# Test again with scaled data\n",
    "\n",
    "# Model = SVC(gamma='scale', C=10, kernel='poly', degree=1,shrinking=True, cache_size= 2000)\n",
    "# Model.fit(Xtrain_scaled, Ytrain) \n",
    "# Model.score(Xtest_scaled, Ytest) \n",
    "\n",
    "# Result: Improvement of 10 % to 76.52\n",
    "\n",
    "# poly degree 1 --> 0.7606\n",
    "# poly degree 2 --> 0.7634\n",
    "# poly degree 3  --> 0.7658\n",
    "# poly degree 4 --> 0.7604\n",
    "# poly degree 5 --> 0.7628\n",
    "# poly degree 6 --> 0.7608\n",
    "# poly degree 7 --> 0.759\n",
    "\n"
   ]
  },
  {
   "cell_type": "code",
   "execution_count": 6,
   "metadata": {},
   "outputs": [
    {
     "data": {
      "text/plain": [
       "0.7658"
      ]
     },
     "execution_count": 6,
     "metadata": {},
     "output_type": "execute_result"
    }
   ],
   "source": [
    "\n",
    "Model = SVC(kernel='poly', coef0=0.5, C=10)\n",
    "Model.fit(Xtrain_scaled, Ytrain) \n",
    "Model.score(Xtest_scaled, Ytest) "
   ]
  },
  {
   "cell_type": "code",
   "execution_count": 8,
   "metadata": {},
   "outputs": [],
   "source": [
    "# Further Improvement throught GridSearch\n",
    "\n",
    "from sklearn.model_selection import GridSearchCV\n",
    "\n",
    "#optimizied_values = {'C':[100,10,1,0.1], 'kernel':['linear', 'poly', 'rbf', 'sigmoid', 'precomputed'], 'gamma':['scale', 'auto',0.1], 'degree' : [3,8],'coef0' : [0.01,10,0.5],'shrinking':[True], 'cache_size': [2000] }\n",
    "#optimizied_values = {'C': [0.1, 1, 10, 100, 1000], 'gamma': [1, 0.1, 0.01, 0.001, 0.0001], 'kernel': ['rbf'], 'shrinking':[True], 'cache_size': [2000]}\n",
    "\n",
    "#optimizied_values = {'C':[100,10,1,0.1], 'kernel':['poly', 'sigmoid'], 'gamma':['scale', 'auto',0.1], 'degree' : [3,8],'coef0' : [0.01,10,0.5],'shrinking':[True], 'cache_size': [2000] }\n",
    "optimizied_values = {'kernel':['linear', 'rbf'], 'cache_size': [50] }\n",
    "\n",
    "\n",
    "improvedModel = GridSearchCV(Model,param_grid=optimizied_values,cv=2)\n",
    "improvedModel.fit(X=Xtrain,y=Ytrain)\n",
    "improvedModel.best_params_\n",
    "# Model_best= improvedModel.best_estimator_\n",
    "# Model_best.score(X=Xteste, Y=yteste)\n"
   ]
  },
  {
   "attachments": {},
   "cell_type": "markdown",
   "metadata": {},
   "source": [
    "use PCA or heat map \n",
    "\n",
    "{'kernel':['poly', 'sigmoid'], 'cache_size': [2000] }\n",
    "        --->{'cache_size': 2000, 'kernel': 'poly'}\n",
    "{'kernel':['poly', 'linear'], 'cache_size': [2000] }\n",
    "        --->{'cache_size': 2000, 'kernel': 'linear'}    46 minutes\n",
    "\n",
    "\n"
   ]
  }
 ],
 "metadata": {
  "kernelspec": {
   "display_name": "Python 3",
   "language": "python",
   "name": "python3"
  },
  "language_info": {
   "codemirror_mode": {
    "name": "ipython",
    "version": 3
   },
   "file_extension": ".py",
   "mimetype": "text/x-python",
   "name": "python",
   "nbconvert_exporter": "python",
   "pygments_lexer": "ipython3",
   "version": "3.9.10"
  },
  "orig_nbformat": 4,
  "vscode": {
   "interpreter": {
    "hash": "19b9c1f92a6c322f8e149f64bb31718673123affa92730ec5bd0290887c92943"
   }
  }
 },
 "nbformat": 4,
 "nbformat_minor": 2
}
